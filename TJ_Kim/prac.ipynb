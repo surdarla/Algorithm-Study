{
 "cells": [
  {
   "cell_type": "code",
   "execution_count": 25,
   "metadata": {},
   "outputs": [],
   "source": [
    "def timeConversion(s):\n",
    "    hour = int(s[:2])\n",
    "    min_sec = s[2:8]\n",
    "    if s[-2:] == 'AM':\n",
    "        hour = hour % 12\n",
    "    else :\n",
    "        hour = hour % 12 + 12\n",
    "\n",
    "    return f\"{hour:02}{min_sec}\""
   ]
  },
  {
   "cell_type": "code",
   "execution_count": 38,
   "metadata": {},
   "outputs": [
    {
     "name": "stdout",
     "output_type": "stream",
     "text": [
      "02\n"
     ]
    }
   ],
   "source": [
    "s = '02:45:54PM'\n",
    "h = int(s[:2])\n",
    "print(f\"{h:02}\")\n"
   ]
  },
  {
   "cell_type": "code",
   "execution_count": null,
   "metadata": {},
   "outputs": [],
   "source": []
  }
 ],
 "metadata": {
  "interpreter": {
   "hash": "0c540ef56d47064bcfcef6e9cbfcbd243b36690daf7505dac5075a371d57cd99"
  },
  "kernelspec": {
   "display_name": "Python 3.9.10 64-bit",
   "language": "python",
   "name": "python3"
  },
  "language_info": {
   "codemirror_mode": {
    "name": "ipython",
    "version": 3
   },
   "file_extension": ".py",
   "mimetype": "text/x-python",
   "name": "python",
   "nbconvert_exporter": "python",
   "pygments_lexer": "ipython3",
   "version": "3.9.10"
  },
  "orig_nbformat": 4
 },
 "nbformat": 4,
 "nbformat_minor": 2
}
